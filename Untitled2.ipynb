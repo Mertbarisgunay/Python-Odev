{
 "cells": [
  {
   "cell_type": "code",
   "execution_count": 2,
   "id": "d22246ac",
   "metadata": {},
   "outputs": [],
   "source": [
    "import pandas as pd\n",
    "import numpy as np\n"
   ]
  },
  {
   "cell_type": "code",
   "execution_count": 4,
   "id": "e98566f8",
   "metadata": {},
   "outputs": [],
   "source": [
    "data = {\n",
    "    'A': [1, 2, np.nan, 4],\n",
    "    'B': [5, np.nan, 7, 8],\n",
    "    'C': ['mert', 'barış', 'günay', 'izmir']\n",
    "}\n",
    "\n",
    "df = pd.DataFrame(data)"
   ]
  },
  {
   "cell_type": "code",
   "execution_count": 5,
   "id": "f15e0788",
   "metadata": {},
   "outputs": [
    {
     "data": {
      "text/html": [
       "<div>\n",
       "<style scoped>\n",
       "    .dataframe tbody tr th:only-of-type {\n",
       "        vertical-align: middle;\n",
       "    }\n",
       "\n",
       "    .dataframe tbody tr th {\n",
       "        vertical-align: top;\n",
       "    }\n",
       "\n",
       "    .dataframe thead th {\n",
       "        text-align: right;\n",
       "    }\n",
       "</style>\n",
       "<table border=\"1\" class=\"dataframe\">\n",
       "  <thead>\n",
       "    <tr style=\"text-align: right;\">\n",
       "      <th></th>\n",
       "      <th>A</th>\n",
       "      <th>B</th>\n",
       "      <th>C</th>\n",
       "    </tr>\n",
       "  </thead>\n",
       "  <tbody>\n",
       "    <tr>\n",
       "      <th>0</th>\n",
       "      <td>1.0</td>\n",
       "      <td>5.0</td>\n",
       "      <td>mert</td>\n",
       "    </tr>\n",
       "    <tr>\n",
       "      <th>1</th>\n",
       "      <td>2.0</td>\n",
       "      <td>NaN</td>\n",
       "      <td>barış</td>\n",
       "    </tr>\n",
       "    <tr>\n",
       "      <th>2</th>\n",
       "      <td>NaN</td>\n",
       "      <td>7.0</td>\n",
       "      <td>günay</td>\n",
       "    </tr>\n",
       "    <tr>\n",
       "      <th>3</th>\n",
       "      <td>4.0</td>\n",
       "      <td>8.0</td>\n",
       "      <td>izmir</td>\n",
       "    </tr>\n",
       "  </tbody>\n",
       "</table>\n",
       "</div>"
      ],
      "text/plain": [
       "     A    B      C\n",
       "0  1.0  5.0   mert\n",
       "1  2.0  NaN  barış\n",
       "2  NaN  7.0  günay\n",
       "3  4.0  8.0  izmir"
      ]
     },
     "execution_count": 5,
     "metadata": {},
     "output_type": "execute_result"
    }
   ],
   "source": [
    "df"
   ]
  },
  {
   "cell_type": "code",
   "execution_count": 6,
   "id": "c365fc8e",
   "metadata": {},
   "outputs": [
    {
     "name": "stdout",
     "output_type": "stream",
     "text": [
      "1. head():\n",
      "      A    B      C\n",
      "0  1.0  5.0   mert\n",
      "1  2.0  NaN  barış\n",
      "2  NaN  7.0  günay\n",
      "3  4.0  8.0  izmir\n"
     ]
    }
   ],
   "source": [
    "# 1. head() - İlk birkaç satırı gösterir\n",
    "print(\"1. head():\\n\", df.head())"
   ]
  },
  {
   "cell_type": "code",
   "execution_count": 7,
   "id": "04a19f7c",
   "metadata": {},
   "outputs": [
    {
     "name": "stdout",
     "output_type": "stream",
     "text": [
      "\n",
      "2. info():\n",
      "<class 'pandas.core.frame.DataFrame'>\n",
      "RangeIndex: 4 entries, 0 to 3\n",
      "Data columns (total 3 columns):\n",
      " #   Column  Non-Null Count  Dtype  \n",
      "---  ------  --------------  -----  \n",
      " 0   A       3 non-null      float64\n",
      " 1   B       3 non-null      float64\n",
      " 2   C       4 non-null      object \n",
      "dtypes: float64(2), object(1)\n",
      "memory usage: 228.0+ bytes\n"
     ]
    }
   ],
   "source": [
    "# 2. info() - Veri seti hakkında bilgi\n",
    "print(\"\\n2. info():\")\n",
    "df.info()\n"
   ]
  },
  {
   "cell_type": "code",
   "execution_count": 8,
   "id": "57a41407",
   "metadata": {},
   "outputs": [
    {
     "name": "stdout",
     "output_type": "stream",
     "text": [
      "\n",
      "3. describe():\n",
      "               A         B\n",
      "count  3.000000  3.000000\n",
      "mean   2.333333  6.666667\n",
      "std    1.527525  1.527525\n",
      "min    1.000000  5.000000\n",
      "25%    1.500000  6.000000\n",
      "50%    2.000000  7.000000\n",
      "75%    3.000000  7.500000\n",
      "max    4.000000  8.000000\n"
     ]
    }
   ],
   "source": [
    "# 3. describe() - İstatistiksel özet\n",
    "print(\"\\n3. describe():\\n\", df.describe())"
   ]
  },
  {
   "cell_type": "code",
   "execution_count": 9,
   "id": "38da55c1",
   "metadata": {},
   "outputs": [
    {
     "name": "stdout",
     "output_type": "stream",
     "text": [
      "\n",
      "4. fillna():\n",
      "      A    B      C\n",
      "0  1.0  5.0   mert\n",
      "1  2.0  0.0  barış\n",
      "2  0.0  7.0  günay\n",
      "3  4.0  8.0  izmir\n"
     ]
    }
   ],
   "source": [
    "# 4. fillna() - Eksik değerleri doldurma\n",
    "filled_df = df.fillna(0)\n",
    "print(\"\\n4. fillna():\\n\", filled_df)\n"
   ]
  },
  {
   "cell_type": "code",
   "execution_count": 10,
   "id": "69f97a5f",
   "metadata": {},
   "outputs": [
    {
     "name": "stdout",
     "output_type": "stream",
     "text": [
      "\n",
      "5. dropna():\n",
      "      A    B      C\n",
      "0  1.0  5.0   mert\n",
      "3  4.0  8.0  izmir\n"
     ]
    }
   ],
   "source": [
    "# 5. dropna() - Eksik değer içeren satırları silme\n",
    "dropped_df = df.dropna()\n",
    "print(\"\\n5. dropna():\\n\", dropped_df)"
   ]
  },
  {
   "cell_type": "code",
   "execution_count": 11,
   "id": "5c251420",
   "metadata": {},
   "outputs": [
    {
     "name": "stdout",
     "output_type": "stream",
     "text": [
      "\n",
      "6. groupby():\n",
      "          A    B\n",
      "C              \n",
      "barış  2.0  0.0\n",
      "günay  0.0  7.0\n",
      "izmir  4.0  8.0\n",
      "mert   1.0  5.0\n"
     ]
    }
   ],
   "source": [
    "# 6. groupby() - Gruplama işlemi\n",
    "print(\"\\n6. groupby():\\n\", df.groupby('C').sum(numeric_only=True))\n"
   ]
  },
  {
   "cell_type": "code",
   "execution_count": 12,
   "id": "5821b786",
   "metadata": {},
   "outputs": [
    {
     "name": "stdout",
     "output_type": "stream",
     "text": [
      "\n",
      "7. sort_values():\n",
      "      A    B      C\n",
      "3  4.0  8.0  izmir\n",
      "1  2.0  NaN  barış\n",
      "0  1.0  5.0   mert\n",
      "2  NaN  7.0  günay\n"
     ]
    }
   ],
   "source": [
    "# 7. sort_values() - Değerleri sıralama\n",
    "sorted_df = df.sort_values(by='A', ascending=False)\n",
    "print(\"\\n7. sort_values():\\n\", sorted_df)"
   ]
  },
  {
   "cell_type": "code",
   "execution_count": 13,
   "id": "1e09efd1",
   "metadata": {},
   "outputs": [
    {
     "name": "stdout",
     "output_type": "stream",
     "text": [
      "\n",
      "8. apply():\n",
      " 0     1.0\n",
      "1     4.0\n",
      "2     NaN\n",
      "3    16.0\n",
      "Name: A, dtype: float64\n"
     ]
    }
   ],
   "source": [
    "# 8. apply() - Fonksiyon uygulama\n",
    "squared = df['A'].apply(lambda x: x**2 if not np.isnan(x) else x)\n",
    "print(\"\\n8. apply():\\n\", squared)\n"
   ]
  },
  {
   "cell_type": "code",
   "execution_count": 14,
   "id": "e12fb06c",
   "metadata": {},
   "outputs": [
    {
     "name": "stdout",
     "output_type": "stream",
     "text": [
      "\n",
      "9. merge():\n",
      "      A    B      C    D\n",
      "0  1.0  5.0   mert    x\n",
      "1  2.0  NaN  barış    y\n",
      "2  NaN  7.0  günay  NaN\n",
      "3  4.0  8.0  izmir    w\n"
     ]
    }
   ],
   "source": [
    "# 9. merge() - Veri setlerini birleştirme\n",
    "df2 = pd.DataFrame({'A': [1, 2, 3, 4], 'D': ['x', 'y', 'z', 'w']})\n",
    "merged_df = pd.merge(df, df2, on='A', how='left')\n",
    "print(\"\\n9. merge():\\n\", merged_df)\n"
   ]
  },
  {
   "cell_type": "code",
   "execution_count": 15,
   "id": "3749aa52",
   "metadata": {},
   "outputs": [
    {
     "name": "stdout",
     "output_type": "stream",
     "text": [
      "\n",
      "10. pivot_table():\n",
      "          A\n",
      "C         \n",
      "barış  2.0\n",
      "günay  0.0\n",
      "izmir  4.0\n",
      "mert   1.0\n"
     ]
    }
   ],
   "source": [
    "# 10. pivot_table() - Pivot tablo oluşturma\n",
    "pivot = pd.pivot_table(df, values='A', index='C', aggfunc='sum')\n",
    "print(\"\\n10. pivot_table():\\n\", pivot)\n"
   ]
  },
  {
   "cell_type": "code",
   "execution_count": null,
   "id": "61d12e22",
   "metadata": {},
   "outputs": [],
   "source": []
  }
 ],
 "metadata": {
  "kernelspec": {
   "display_name": "Python 3 (ipykernel)",
   "language": "python",
   "name": "python3"
  },
  "language_info": {
   "codemirror_mode": {
    "name": "ipython",
    "version": 3
   },
   "file_extension": ".py",
   "mimetype": "text/x-python",
   "name": "python",
   "nbconvert_exporter": "python",
   "pygments_lexer": "ipython3",
   "version": "3.11.5"
  }
 },
 "nbformat": 4,
 "nbformat_minor": 5
}
